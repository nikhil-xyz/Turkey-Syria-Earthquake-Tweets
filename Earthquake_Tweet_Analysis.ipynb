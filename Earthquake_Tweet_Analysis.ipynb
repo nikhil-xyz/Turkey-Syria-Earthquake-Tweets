{
 "cells": [
  {
   "cell_type": "code",
   "execution_count": 1,
   "id": "a24d5eb4",
   "metadata": {},
   "outputs": [],
   "source": [
    "import pandas as pd\n",
    "import numpy as np"
   ]
  },
  {
   "cell_type": "code",
   "execution_count": 2,
   "id": "86a5d822",
   "metadata": {},
   "outputs": [
    {
     "name": "stderr",
     "output_type": "stream",
     "text": [
      "c:\\python\\python37\\lib\\site-packages\\IPython\\core\\interactiveshell.py:3553: DtypeWarning: Columns (6) have mixed types.Specify dtype option on import or set low_memory=False.\n",
      "  exec(code_obj, self.user_global_ns, self.user_ns)\n"
     ]
    }
   ],
   "source": [
    "tweets = pd.read_csv('tweets.csv')"
   ]
  },
  {
   "cell_type": "code",
   "execution_count": 3,
   "id": "76c09eb1",
   "metadata": {},
   "outputs": [
    {
     "data": {
      "text/html": [
       "<div>\n",
       "<style scoped>\n",
       "    .dataframe tbody tr th:only-of-type {\n",
       "        vertical-align: middle;\n",
       "    }\n",
       "\n",
       "    .dataframe tbody tr th {\n",
       "        vertical-align: top;\n",
       "    }\n",
       "\n",
       "    .dataframe thead th {\n",
       "        text-align: right;\n",
       "    }\n",
       "</style>\n",
       "<table border=\"1\" class=\"dataframe\">\n",
       "  <thead>\n",
       "    <tr style=\"text-align: right;\">\n",
       "      <th></th>\n",
       "      <th>date</th>\n",
       "      <th>content</th>\n",
       "      <th>hashtags</th>\n",
       "      <th>like_count</th>\n",
       "      <th>rt_count</th>\n",
       "      <th>followers_count</th>\n",
       "      <th>isVerified</th>\n",
       "      <th>language</th>\n",
       "      <th>coordinates</th>\n",
       "      <th>place</th>\n",
       "      <th>source</th>\n",
       "    </tr>\n",
       "  </thead>\n",
       "  <tbody>\n",
       "    <tr>\n",
       "      <th>0</th>\n",
       "      <td>2023-02-21 03:30:04+00:00</td>\n",
       "      <td>तुर्की में सोमवार देर रात भूंकप के तेज झटके मह...</td>\n",
       "      <td>['ATDigital', 'Turkey', 'Earthquake', 'TurkeyE...</td>\n",
       "      <td>0.0</td>\n",
       "      <td>0.0</td>\n",
       "      <td>19727712.0</td>\n",
       "      <td>True</td>\n",
       "      <td>hi</td>\n",
       "      <td>NaN</td>\n",
       "      <td>NaN</td>\n",
       "      <td>Twitter Media Studio</td>\n",
       "    </tr>\n",
       "    <tr>\n",
       "      <th>1</th>\n",
       "      <td>2023-02-21 03:29:07+00:00</td>\n",
       "      <td>New search &amp;amp; rescue work is in progress in...</td>\n",
       "      <td>['Hatay', 'earthquakes', 'Türkiye', 'TurkiyeQu...</td>\n",
       "      <td>1.0</td>\n",
       "      <td>0.0</td>\n",
       "      <td>5697.0</td>\n",
       "      <td>True</td>\n",
       "      <td>en</td>\n",
       "      <td>NaN</td>\n",
       "      <td>NaN</td>\n",
       "      <td>Twitter Web App</td>\n",
       "    </tr>\n",
       "    <tr>\n",
       "      <th>2</th>\n",
       "      <td>2023-02-21 03:29:04+00:00</td>\n",
       "      <td>Can't imagine those who still haven't recovere...</td>\n",
       "      <td>['Turkey', 'earthquake', 'turkeyearthquake2023...</td>\n",
       "      <td>0.0</td>\n",
       "      <td>0.0</td>\n",
       "      <td>1.0</td>\n",
       "      <td>False</td>\n",
       "      <td>en</td>\n",
       "      <td>NaN</td>\n",
       "      <td>NaN</td>\n",
       "      <td>Twitter for Android</td>\n",
       "    </tr>\n",
       "    <tr>\n",
       "      <th>3</th>\n",
       "      <td>2023-02-21 03:28:06+00:00</td>\n",
       "      <td>its a highkey sign for all of us to ponder ove...</td>\n",
       "      <td>['turkeyearthquake2023', 'earthquake', 'Syria']</td>\n",
       "      <td>0.0</td>\n",
       "      <td>0.0</td>\n",
       "      <td>3.0</td>\n",
       "      <td>False</td>\n",
       "      <td>en</td>\n",
       "      <td>NaN</td>\n",
       "      <td>NaN</td>\n",
       "      <td>Twitter for Android</td>\n",
       "    </tr>\n",
       "    <tr>\n",
       "      <th>4</th>\n",
       "      <td>2023-02-21 03:27:38+00:00</td>\n",
       "      <td>Turkiye Earthquake: तुर्किए में फिर आया भूकंप ...</td>\n",
       "      <td>['turkey', 'earthquake', 'turkiye', 'india', '...</td>\n",
       "      <td>0.0</td>\n",
       "      <td>0.0</td>\n",
       "      <td>17.0</td>\n",
       "      <td>False</td>\n",
       "      <td>und</td>\n",
       "      <td>NaN</td>\n",
       "      <td>NaN</td>\n",
       "      <td>Twitter for Android</td>\n",
       "    </tr>\n",
       "  </tbody>\n",
       "</table>\n",
       "</div>"
      ],
      "text/plain": [
       "                        date  \\\n",
       "0  2023-02-21 03:30:04+00:00   \n",
       "1  2023-02-21 03:29:07+00:00   \n",
       "2  2023-02-21 03:29:04+00:00   \n",
       "3  2023-02-21 03:28:06+00:00   \n",
       "4  2023-02-21 03:27:38+00:00   \n",
       "\n",
       "                                             content  \\\n",
       "0  तुर्की में सोमवार देर रात भूंकप के तेज झटके मह...   \n",
       "1  New search &amp; rescue work is in progress in...   \n",
       "2  Can't imagine those who still haven't recovere...   \n",
       "3  its a highkey sign for all of us to ponder ove...   \n",
       "4  Turkiye Earthquake: तुर्किए में फिर आया भूकंप ...   \n",
       "\n",
       "                                            hashtags  like_count  rt_count  \\\n",
       "0  ['ATDigital', 'Turkey', 'Earthquake', 'TurkeyE...         0.0       0.0   \n",
       "1  ['Hatay', 'earthquakes', 'Türkiye', 'TurkiyeQu...         1.0       0.0   \n",
       "2  ['Turkey', 'earthquake', 'turkeyearthquake2023...         0.0       0.0   \n",
       "3    ['turkeyearthquake2023', 'earthquake', 'Syria']         0.0       0.0   \n",
       "4  ['turkey', 'earthquake', 'turkiye', 'india', '...         0.0       0.0   \n",
       "\n",
       "   followers_count isVerified language coordinates place                source  \n",
       "0       19727712.0       True       hi         NaN   NaN  Twitter Media Studio  \n",
       "1           5697.0       True       en         NaN   NaN       Twitter Web App  \n",
       "2              1.0      False       en         NaN   NaN   Twitter for Android  \n",
       "3              3.0      False       en         NaN   NaN   Twitter for Android  \n",
       "4             17.0      False      und         NaN   NaN   Twitter for Android  "
      ]
     },
     "execution_count": 3,
     "metadata": {},
     "output_type": "execute_result"
    }
   ],
   "source": [
    "tweets.head()"
   ]
  },
  {
   "cell_type": "code",
   "execution_count": 4,
   "id": "6311e897",
   "metadata": {},
   "outputs": [
    {
     "data": {
      "text/plain": [
       "(478052, 11)"
      ]
     },
     "execution_count": 4,
     "metadata": {},
     "output_type": "execute_result"
    }
   ],
   "source": [
    "tweets.shape"
   ]
  },
  {
   "cell_type": "code",
   "execution_count": 5,
   "id": "07afcc9a",
   "metadata": {},
   "outputs": [
    {
     "data": {
      "text/plain": [
       "date                    0\n",
       "content                 0\n",
       "hashtags               18\n",
       "like_count             17\n",
       "rt_count               17\n",
       "followers_count        17\n",
       "isVerified             17\n",
       "language               17\n",
       "coordinates        457383\n",
       "place              457856\n",
       "source                 17\n",
       "dtype: int64"
      ]
     },
     "execution_count": 5,
     "metadata": {},
     "output_type": "execute_result"
    }
   ],
   "source": [
    "tweets.isnull().sum()"
   ]
  },
  {
   "cell_type": "code",
   "execution_count": 6,
   "id": "f1582ff8",
   "metadata": {},
   "outputs": [],
   "source": [
    "tweets.drop(['coordinates', 'place'], axis=1, inplace=True)"
   ]
  },
  {
   "cell_type": "code",
   "execution_count": 7,
   "id": "b3311f7d",
   "metadata": {},
   "outputs": [
    {
     "data": {
      "text/plain": [
       "date                0\n",
       "content             0\n",
       "hashtags           18\n",
       "like_count         17\n",
       "rt_count           17\n",
       "followers_count    17\n",
       "isVerified         17\n",
       "language           17\n",
       "source             17\n",
       "dtype: int64"
      ]
     },
     "execution_count": 7,
     "metadata": {},
     "output_type": "execute_result"
    }
   ],
   "source": [
    "tweets.isnull().sum()"
   ]
  },
  {
   "cell_type": "code",
   "execution_count": 8,
   "id": "a49f1b96",
   "metadata": {},
   "outputs": [],
   "source": [
    "tweets.dropna(inplace=True)"
   ]
  },
  {
   "cell_type": "code",
   "execution_count": 9,
   "id": "0bee05d6",
   "metadata": {},
   "outputs": [
    {
     "data": {
      "text/plain": [
       "date               0\n",
       "content            0\n",
       "hashtags           0\n",
       "like_count         0\n",
       "rt_count           0\n",
       "followers_count    0\n",
       "isVerified         0\n",
       "language           0\n",
       "source             0\n",
       "dtype: int64"
      ]
     },
     "execution_count": 9,
     "metadata": {},
     "output_type": "execute_result"
    }
   ],
   "source": [
    "tweets.isnull().sum()"
   ]
  },
  {
   "cell_type": "code",
   "execution_count": 10,
   "id": "5b6dd3af",
   "metadata": {},
   "outputs": [
    {
     "data": {
      "text/plain": [
       "'Turkey में बड़े भूकंप के बाद 32वीं बार कांपी धरती, इस बार भी गई तीन की जान #turkey #earthquake #trembled #death https://t.co/ejistQfNsu'"
      ]
     },
     "execution_count": 10,
     "metadata": {},
     "output_type": "execute_result"
    }
   ],
   "source": [
    "tweets[tweets['language'] == 'hi']['content'][12]"
   ]
  },
  {
   "cell_type": "code",
   "execution_count": 11,
   "id": "fecd69e0",
   "metadata": {},
   "outputs": [],
   "source": [
    "temp = 'तुर्की में सोमवार देर रात भूंकप के तेज झटके महसूस किए गए. हताय प्रांत में 6.4 तीव्रता का भूकंप महसूस किया गया. 6 फरवरी को 7.4 तीव्रता के महाविनाशकारी भूकंप के बाद एक बार फिर तुर्की में दहशत का माहौल है.  #ATDigital #Turkey #Earthquake #TurkeyEarthquake https://t.co/fdc7uztUEb'"
   ]
  },
  {
   "cell_type": "code",
   "execution_count": 12,
   "id": "2f8e440e",
   "metadata": {},
   "outputs": [
    {
     "data": {
      "text/plain": [
       "'तुर्की में सोमवार देर रात भूंकप के तेज झटके महसूस किए गए. हताय प्रांत में 6.4 तीव्रता का भूकंप महसूस किया गया. 6 फरवरी को 7.4 तीव्रता के महाविनाशकारी भूकंप के बाद एक बार फिर तुर्की में दहशत का माहौल है.  #ATDigital #Turkey #Earthquake #TurkeyEarthquake'"
      ]
     },
     "execution_count": 12,
     "metadata": {},
     "output_type": "execute_result"
    }
   ],
   "source": [
    "import re\n",
    "pattern_url = re.compile('https:.{7}\\S{10}')\n",
    "temp = re.sub(pattern_url, ' ', temp).strip()\n",
    "temp"
   ]
  },
  {
   "cell_type": "code",
   "execution_count": 13,
   "id": "0ae3c714",
   "metadata": {},
   "outputs": [
    {
     "data": {
      "text/plain": [
       "['#ATDigital', '#Turkey', '#Earthquake', '#TurkeyEarthquake']"
      ]
     },
     "execution_count": 13,
     "metadata": {},
     "output_type": "execute_result"
    }
   ],
   "source": [
    "re.findall(r\"(#+[a-zA-Z0-9(_)]{1,})\", temp)"
   ]
  },
  {
   "cell_type": "code",
   "execution_count": 14,
   "id": "d7f1a36d",
   "metadata": {},
   "outputs": [],
   "source": [
    "def remove_url(text):\n",
    "    pattern_url = re.compile('https:.{7}\\S{10}')\n",
    "    text = re.sub(pattern_url, ' ', text).strip()\n",
    "    return text"
   ]
  },
  {
   "cell_type": "code",
   "execution_count": 15,
   "id": "11154b2d",
   "metadata": {},
   "outputs": [],
   "source": [
    "tweets['content'] = tweets['content'].apply(remove_url)"
   ]
  },
  {
   "cell_type": "code",
   "execution_count": 16,
   "id": "b5e14b78",
   "metadata": {},
   "outputs": [
    {
     "data": {
      "text/plain": [
       "'तुर्की में सोमवार देर रात भूंकप के तेज झटके महसूस किए गए. हताय प्रांत में 6.4 तीव्रता का भूकंप महसूस किया गया. 6 फरवरी को 7.4 तीव्रता के महाविनाशकारी भूकंप के बाद एक बार फिर तुर्की में दहशत का माहौल है.  #ATDigital #Turkey #Earthquake #TurkeyEarthquake'"
      ]
     },
     "execution_count": 16,
     "metadata": {},
     "output_type": "execute_result"
    }
   ],
   "source": [
    "tweets['content'][0]"
   ]
  },
  {
   "cell_type": "code",
   "execution_count": 17,
   "id": "26650f81",
   "metadata": {},
   "outputs": [],
   "source": [
    "tweets['hash_tags'] = tweets['content'].str.findall(r\"(#+[a-zA-Z0-9(_)]{1,})\")"
   ]
  },
  {
   "cell_type": "code",
   "execution_count": 18,
   "id": "eab39d4c",
   "metadata": {},
   "outputs": [
    {
     "data": {
      "text/plain": [
       "['#ATDigital', '#Turkey', '#Earthquake', '#TurkeyEarthquake']"
      ]
     },
     "execution_count": 18,
     "metadata": {},
     "output_type": "execute_result"
    }
   ],
   "source": [
    "tweets['hash_tags'][0]"
   ]
  },
  {
   "cell_type": "code",
   "execution_count": 19,
   "id": "54224cb6",
   "metadata": {},
   "outputs": [
    {
     "data": {
      "text/plain": [
       "'तुर्की में सोमवार देर रात भूंकप के तेज झटके महसूस किए गए. हताय प्रांत में 6.4 तीव्रता का भूकंप महसूस किया गया. 6 फरवरी को 7.4 तीव्रता के महाविनाशकारी भूकंप के बाद एक बार फिर तुर्की में दहशत का माहौल है.  #ATDigital #Turkey #Earthquake #TurkeyEarthquake'"
      ]
     },
     "execution_count": 19,
     "metadata": {},
     "output_type": "execute_result"
    }
   ],
   "source": [
    "tweets['content'][0]"
   ]
  },
  {
   "cell_type": "code",
   "execution_count": 20,
   "id": "ef644d4f",
   "metadata": {},
   "outputs": [],
   "source": [
    "def remove_hash(text):\n",
    "    pattern_hash = re.compile('(#+[a-zA-Z0-9(_)]{1,})')\n",
    "    text = re.sub(pattern_hash, ' ', text).strip()\n",
    "    return text"
   ]
  },
  {
   "cell_type": "code",
   "execution_count": 21,
   "id": "32ad77dc",
   "metadata": {},
   "outputs": [],
   "source": [
    "tweets['content'] = tweets['content'].apply(remove_hash)"
   ]
  },
  {
   "cell_type": "code",
   "execution_count": 22,
   "id": "1fe8ed8c",
   "metadata": {},
   "outputs": [
    {
     "data": {
      "text/plain": [
       "'तुर्की में सोमवार देर रात भूंकप के तेज झटके महसूस किए गए. हताय प्रांत में 6.4 तीव्रता का भूकंप महसूस किया गया. 6 फरवरी को 7.4 तीव्रता के महाविनाशकारी भूकंप के बाद एक बार फिर तुर्की में दहशत का माहौल है.'"
      ]
     },
     "execution_count": 22,
     "metadata": {},
     "output_type": "execute_result"
    }
   ],
   "source": [
    "tweets['content'][0]"
   ]
  },
  {
   "cell_type": "code",
   "execution_count": 23,
   "id": "ea64bbab",
   "metadata": {},
   "outputs": [
    {
     "data": {
      "text/plain": [
       "Index(['date', 'content', 'hashtags', 'like_count', 'rt_count',\n",
       "       'followers_count', 'isVerified', 'language', 'source', 'hash_tags'],\n",
       "      dtype='object')"
      ]
     },
     "execution_count": 23,
     "metadata": {},
     "output_type": "execute_result"
    }
   ],
   "source": [
    "tweets.columns"
   ]
  },
  {
   "cell_type": "code",
   "execution_count": 24,
   "id": "5139e8fd",
   "metadata": {},
   "outputs": [
    {
     "data": {
      "text/html": [
       "<div>\n",
       "<style scoped>\n",
       "    .dataframe tbody tr th:only-of-type {\n",
       "        vertical-align: middle;\n",
       "    }\n",
       "\n",
       "    .dataframe tbody tr th {\n",
       "        vertical-align: top;\n",
       "    }\n",
       "\n",
       "    .dataframe thead th {\n",
       "        text-align: right;\n",
       "    }\n",
       "</style>\n",
       "<table border=\"1\" class=\"dataframe\">\n",
       "  <thead>\n",
       "    <tr style=\"text-align: right;\">\n",
       "      <th></th>\n",
       "      <th>date</th>\n",
       "      <th>content</th>\n",
       "      <th>hashtags</th>\n",
       "      <th>like_count</th>\n",
       "      <th>rt_count</th>\n",
       "      <th>followers_count</th>\n",
       "      <th>isVerified</th>\n",
       "      <th>language</th>\n",
       "      <th>source</th>\n",
       "      <th>hash_tags</th>\n",
       "    </tr>\n",
       "  </thead>\n",
       "  <tbody>\n",
       "    <tr>\n",
       "      <th>0</th>\n",
       "      <td>2023-02-21 03:30:04+00:00</td>\n",
       "      <td>तुर्की में सोमवार देर रात भूंकप के तेज झटके मह...</td>\n",
       "      <td>['ATDigital', 'Turkey', 'Earthquake', 'TurkeyE...</td>\n",
       "      <td>0.0</td>\n",
       "      <td>0.0</td>\n",
       "      <td>19727712.0</td>\n",
       "      <td>True</td>\n",
       "      <td>hi</td>\n",
       "      <td>Twitter Media Studio</td>\n",
       "      <td>[#ATDigital, #Turkey, #Earthquake, #TurkeyEart...</td>\n",
       "    </tr>\n",
       "    <tr>\n",
       "      <th>1</th>\n",
       "      <td>2023-02-21 03:29:07+00:00</td>\n",
       "      <td>New search &amp;amp; rescue work is in progress in...</td>\n",
       "      <td>['Hatay', 'earthquakes', 'Türkiye', 'TurkiyeQu...</td>\n",
       "      <td>1.0</td>\n",
       "      <td>0.0</td>\n",
       "      <td>5697.0</td>\n",
       "      <td>True</td>\n",
       "      <td>en</td>\n",
       "      <td>Twitter Web App</td>\n",
       "      <td>[#Hatay, #earthquakes, #T, #TurkiyeQuakes, #Tu...</td>\n",
       "    </tr>\n",
       "    <tr>\n",
       "      <th>2</th>\n",
       "      <td>2023-02-21 03:29:04+00:00</td>\n",
       "      <td>Can't imagine those who still haven't recovere...</td>\n",
       "      <td>['Turkey', 'earthquake', 'turkeyearthquake2023...</td>\n",
       "      <td>0.0</td>\n",
       "      <td>0.0</td>\n",
       "      <td>1.0</td>\n",
       "      <td>False</td>\n",
       "      <td>en</td>\n",
       "      <td>Twitter for Android</td>\n",
       "      <td>[#Turkey, #earthquake, #turkeyearthquake2023, ...</td>\n",
       "    </tr>\n",
       "    <tr>\n",
       "      <th>3</th>\n",
       "      <td>2023-02-21 03:28:06+00:00</td>\n",
       "      <td>its a highkey sign for all of us to ponder ove...</td>\n",
       "      <td>['turkeyearthquake2023', 'earthquake', 'Syria']</td>\n",
       "      <td>0.0</td>\n",
       "      <td>0.0</td>\n",
       "      <td>3.0</td>\n",
       "      <td>False</td>\n",
       "      <td>en</td>\n",
       "      <td>Twitter for Android</td>\n",
       "      <td>[#turkeyearthquake2023, #earthquake, #Syria]</td>\n",
       "    </tr>\n",
       "    <tr>\n",
       "      <th>4</th>\n",
       "      <td>2023-02-21 03:27:38+00:00</td>\n",
       "      <td>Turkiye Earthquake: तुर्किए में फिर आया भूकंप</td>\n",
       "      <td>['turkey', 'earthquake', 'turkiye', 'india', '...</td>\n",
       "      <td>0.0</td>\n",
       "      <td>0.0</td>\n",
       "      <td>17.0</td>\n",
       "      <td>False</td>\n",
       "      <td>und</td>\n",
       "      <td>Twitter for Android</td>\n",
       "      <td>[#turkey, #earthquake, #turkiye, #india, #oper...</td>\n",
       "    </tr>\n",
       "  </tbody>\n",
       "</table>\n",
       "</div>"
      ],
      "text/plain": [
       "                        date  \\\n",
       "0  2023-02-21 03:30:04+00:00   \n",
       "1  2023-02-21 03:29:07+00:00   \n",
       "2  2023-02-21 03:29:04+00:00   \n",
       "3  2023-02-21 03:28:06+00:00   \n",
       "4  2023-02-21 03:27:38+00:00   \n",
       "\n",
       "                                             content  \\\n",
       "0  तुर्की में सोमवार देर रात भूंकप के तेज झटके मह...   \n",
       "1  New search &amp; rescue work is in progress in...   \n",
       "2  Can't imagine those who still haven't recovere...   \n",
       "3  its a highkey sign for all of us to ponder ove...   \n",
       "4      Turkiye Earthquake: तुर्किए में फिर आया भूकंप   \n",
       "\n",
       "                                            hashtags  like_count  rt_count  \\\n",
       "0  ['ATDigital', 'Turkey', 'Earthquake', 'TurkeyE...         0.0       0.0   \n",
       "1  ['Hatay', 'earthquakes', 'Türkiye', 'TurkiyeQu...         1.0       0.0   \n",
       "2  ['Turkey', 'earthquake', 'turkeyearthquake2023...         0.0       0.0   \n",
       "3    ['turkeyearthquake2023', 'earthquake', 'Syria']         0.0       0.0   \n",
       "4  ['turkey', 'earthquake', 'turkiye', 'india', '...         0.0       0.0   \n",
       "\n",
       "   followers_count isVerified language                source  \\\n",
       "0       19727712.0       True       hi  Twitter Media Studio   \n",
       "1           5697.0       True       en       Twitter Web App   \n",
       "2              1.0      False       en   Twitter for Android   \n",
       "3              3.0      False       en   Twitter for Android   \n",
       "4             17.0      False      und   Twitter for Android   \n",
       "\n",
       "                                           hash_tags  \n",
       "0  [#ATDigital, #Turkey, #Earthquake, #TurkeyEart...  \n",
       "1  [#Hatay, #earthquakes, #T, #TurkiyeQuakes, #Tu...  \n",
       "2  [#Turkey, #earthquake, #turkeyearthquake2023, ...  \n",
       "3       [#turkeyearthquake2023, #earthquake, #Syria]  \n",
       "4  [#turkey, #earthquake, #turkiye, #india, #oper...  "
      ]
     },
     "execution_count": 24,
     "metadata": {},
     "output_type": "execute_result"
    }
   ],
   "source": [
    "tweets.head()"
   ]
  },
  {
   "cell_type": "code",
   "execution_count": 25,
   "id": "efb1bfb7",
   "metadata": {},
   "outputs": [],
   "source": [
    "tweets['day'] = pd.to_datetime(tweets['date']).dt.day"
   ]
  },
  {
   "cell_type": "code",
   "execution_count": 26,
   "id": "cd2c8875",
   "metadata": {},
   "outputs": [],
   "source": [
    "tweets['hour'] = pd.to_datetime(tweets['date']).dt.hour"
   ]
  },
  {
   "cell_type": "code",
   "execution_count": 27,
   "id": "c245fd64",
   "metadata": {},
   "outputs": [
    {
     "data": {
      "text/plain": [
       "Index(['date', 'content', 'hashtags', 'like_count', 'rt_count',\n",
       "       'followers_count', 'isVerified', 'language', 'source', 'hash_tags',\n",
       "       'day', 'hour'],\n",
       "      dtype='object')"
      ]
     },
     "execution_count": 27,
     "metadata": {},
     "output_type": "execute_result"
    }
   ],
   "source": [
    "tweets.columns"
   ]
  },
  {
   "cell_type": "code",
   "execution_count": 28,
   "id": "6d07f7e5",
   "metadata": {},
   "outputs": [
    {
     "data": {
      "text/html": [
       "<div>\n",
       "<style scoped>\n",
       "    .dataframe tbody tr th:only-of-type {\n",
       "        vertical-align: middle;\n",
       "    }\n",
       "\n",
       "    .dataframe tbody tr th {\n",
       "        vertical-align: top;\n",
       "    }\n",
       "\n",
       "    .dataframe thead th {\n",
       "        text-align: right;\n",
       "    }\n",
       "</style>\n",
       "<table border=\"1\" class=\"dataframe\">\n",
       "  <thead>\n",
       "    <tr style=\"text-align: right;\">\n",
       "      <th></th>\n",
       "      <th>date</th>\n",
       "      <th>content</th>\n",
       "      <th>hashtags</th>\n",
       "      <th>like_count</th>\n",
       "      <th>rt_count</th>\n",
       "      <th>followers_count</th>\n",
       "      <th>isVerified</th>\n",
       "      <th>language</th>\n",
       "      <th>source</th>\n",
       "      <th>hash_tags</th>\n",
       "      <th>day</th>\n",
       "      <th>hour</th>\n",
       "    </tr>\n",
       "  </thead>\n",
       "  <tbody>\n",
       "    <tr>\n",
       "      <th>0</th>\n",
       "      <td>2023-02-21 03:30:04+00:00</td>\n",
       "      <td>तुर्की में सोमवार देर रात भूंकप के तेज झटके मह...</td>\n",
       "      <td>['ATDigital', 'Turkey', 'Earthquake', 'TurkeyE...</td>\n",
       "      <td>0.0</td>\n",
       "      <td>0.0</td>\n",
       "      <td>19727712.0</td>\n",
       "      <td>True</td>\n",
       "      <td>hi</td>\n",
       "      <td>Twitter Media Studio</td>\n",
       "      <td>[#ATDigital, #Turkey, #Earthquake, #TurkeyEart...</td>\n",
       "      <td>21</td>\n",
       "      <td>3</td>\n",
       "    </tr>\n",
       "    <tr>\n",
       "      <th>1</th>\n",
       "      <td>2023-02-21 03:29:07+00:00</td>\n",
       "      <td>New search &amp;amp; rescue work is in progress in...</td>\n",
       "      <td>['Hatay', 'earthquakes', 'Türkiye', 'TurkiyeQu...</td>\n",
       "      <td>1.0</td>\n",
       "      <td>0.0</td>\n",
       "      <td>5697.0</td>\n",
       "      <td>True</td>\n",
       "      <td>en</td>\n",
       "      <td>Twitter Web App</td>\n",
       "      <td>[#Hatay, #earthquakes, #T, #TurkiyeQuakes, #Tu...</td>\n",
       "      <td>21</td>\n",
       "      <td>3</td>\n",
       "    </tr>\n",
       "    <tr>\n",
       "      <th>2</th>\n",
       "      <td>2023-02-21 03:29:04+00:00</td>\n",
       "      <td>Can't imagine those who still haven't recovere...</td>\n",
       "      <td>['Turkey', 'earthquake', 'turkeyearthquake2023...</td>\n",
       "      <td>0.0</td>\n",
       "      <td>0.0</td>\n",
       "      <td>1.0</td>\n",
       "      <td>False</td>\n",
       "      <td>en</td>\n",
       "      <td>Twitter for Android</td>\n",
       "      <td>[#Turkey, #earthquake, #turkeyearthquake2023, ...</td>\n",
       "      <td>21</td>\n",
       "      <td>3</td>\n",
       "    </tr>\n",
       "    <tr>\n",
       "      <th>3</th>\n",
       "      <td>2023-02-21 03:28:06+00:00</td>\n",
       "      <td>its a highkey sign for all of us to ponder ove...</td>\n",
       "      <td>['turkeyearthquake2023', 'earthquake', 'Syria']</td>\n",
       "      <td>0.0</td>\n",
       "      <td>0.0</td>\n",
       "      <td>3.0</td>\n",
       "      <td>False</td>\n",
       "      <td>en</td>\n",
       "      <td>Twitter for Android</td>\n",
       "      <td>[#turkeyearthquake2023, #earthquake, #Syria]</td>\n",
       "      <td>21</td>\n",
       "      <td>3</td>\n",
       "    </tr>\n",
       "    <tr>\n",
       "      <th>4</th>\n",
       "      <td>2023-02-21 03:27:38+00:00</td>\n",
       "      <td>Turkiye Earthquake: तुर्किए में फिर आया भूकंप</td>\n",
       "      <td>['turkey', 'earthquake', 'turkiye', 'india', '...</td>\n",
       "      <td>0.0</td>\n",
       "      <td>0.0</td>\n",
       "      <td>17.0</td>\n",
       "      <td>False</td>\n",
       "      <td>und</td>\n",
       "      <td>Twitter for Android</td>\n",
       "      <td>[#turkey, #earthquake, #turkiye, #india, #oper...</td>\n",
       "      <td>21</td>\n",
       "      <td>3</td>\n",
       "    </tr>\n",
       "  </tbody>\n",
       "</table>\n",
       "</div>"
      ],
      "text/plain": [
       "                        date  \\\n",
       "0  2023-02-21 03:30:04+00:00   \n",
       "1  2023-02-21 03:29:07+00:00   \n",
       "2  2023-02-21 03:29:04+00:00   \n",
       "3  2023-02-21 03:28:06+00:00   \n",
       "4  2023-02-21 03:27:38+00:00   \n",
       "\n",
       "                                             content  \\\n",
       "0  तुर्की में सोमवार देर रात भूंकप के तेज झटके मह...   \n",
       "1  New search &amp; rescue work is in progress in...   \n",
       "2  Can't imagine those who still haven't recovere...   \n",
       "3  its a highkey sign for all of us to ponder ove...   \n",
       "4      Turkiye Earthquake: तुर्किए में फिर आया भूकंप   \n",
       "\n",
       "                                            hashtags  like_count  rt_count  \\\n",
       "0  ['ATDigital', 'Turkey', 'Earthquake', 'TurkeyE...         0.0       0.0   \n",
       "1  ['Hatay', 'earthquakes', 'Türkiye', 'TurkiyeQu...         1.0       0.0   \n",
       "2  ['Turkey', 'earthquake', 'turkeyearthquake2023...         0.0       0.0   \n",
       "3    ['turkeyearthquake2023', 'earthquake', 'Syria']         0.0       0.0   \n",
       "4  ['turkey', 'earthquake', 'turkiye', 'india', '...         0.0       0.0   \n",
       "\n",
       "   followers_count isVerified language                source  \\\n",
       "0       19727712.0       True       hi  Twitter Media Studio   \n",
       "1           5697.0       True       en       Twitter Web App   \n",
       "2              1.0      False       en   Twitter for Android   \n",
       "3              3.0      False       en   Twitter for Android   \n",
       "4             17.0      False      und   Twitter for Android   \n",
       "\n",
       "                                           hash_tags  day  hour  \n",
       "0  [#ATDigital, #Turkey, #Earthquake, #TurkeyEart...   21     3  \n",
       "1  [#Hatay, #earthquakes, #T, #TurkiyeQuakes, #Tu...   21     3  \n",
       "2  [#Turkey, #earthquake, #turkeyearthquake2023, ...   21     3  \n",
       "3       [#turkeyearthquake2023, #earthquake, #Syria]   21     3  \n",
       "4  [#turkey, #earthquake, #turkiye, #india, #oper...   21     3  "
      ]
     },
     "execution_count": 28,
     "metadata": {},
     "output_type": "execute_result"
    }
   ],
   "source": [
    "tweets.head()"
   ]
  },
  {
   "cell_type": "code",
   "execution_count": 29,
   "id": "900bce1c",
   "metadata": {},
   "outputs": [
    {
     "data": {
      "text/plain": [
       "date               0\n",
       "content            0\n",
       "hashtags           0\n",
       "like_count         0\n",
       "rt_count           0\n",
       "followers_count    0\n",
       "isVerified         0\n",
       "language           0\n",
       "source             0\n",
       "hash_tags          0\n",
       "day                0\n",
       "hour               0\n",
       "dtype: int64"
      ]
     },
     "execution_count": 29,
     "metadata": {},
     "output_type": "execute_result"
    }
   ],
   "source": [
    "tweets.isnull().sum()"
   ]
  },
  {
   "cell_type": "code",
   "execution_count": 30,
   "id": "f4088c8f",
   "metadata": {},
   "outputs": [],
   "source": [
    "# import pickle\n",
    "# pickle.dump(tweets, open('tweets.pkl', 'wb'))"
   ]
  },
  {
   "cell_type": "code",
   "execution_count": null,
   "id": "6745086a",
   "metadata": {},
   "outputs": [],
   "source": []
  },
  {
   "cell_type": "code",
   "execution_count": 31,
   "id": "3f407108",
   "metadata": {},
   "outputs": [
    {
     "data": {
      "text/plain": [
       "54"
      ]
     },
     "execution_count": 31,
     "metadata": {},
     "output_type": "execute_result"
    }
   ],
   "source": [
    "likes = tweets[tweets['source'] == 'TINS'].sum()['like_count']\n",
    "int(likes)"
   ]
  },
  {
   "cell_type": "code",
   "execution_count": 32,
   "id": "a7176a35",
   "metadata": {},
   "outputs": [
    {
     "data": {
      "text/plain": [
       "True"
      ]
     },
     "execution_count": 32,
     "metadata": {},
     "output_type": "execute_result"
    }
   ],
   "source": [
    "tweets[tweets['source'] == 'Twitter Media Studio']['isVerified'].head(1)[0]"
   ]
  },
  {
   "cell_type": "code",
   "execution_count": 60,
   "id": "8700a1d4",
   "metadata": {},
   "outputs": [],
   "source": [
    "x = tweets['language'].value_counts().head(20).reset_index()"
   ]
  },
  {
   "cell_type": "code",
   "execution_count": 552,
   "id": "5742ffb2",
   "metadata": {},
   "outputs": [
    {
     "data": {
      "text/html": [
       "<div>\n",
       "<style scoped>\n",
       "    .dataframe tbody tr th:only-of-type {\n",
       "        vertical-align: middle;\n",
       "    }\n",
       "\n",
       "    .dataframe tbody tr th {\n",
       "        vertical-align: top;\n",
       "    }\n",
       "\n",
       "    .dataframe thead th {\n",
       "        text-align: right;\n",
       "    }\n",
       "</style>\n",
       "<table border=\"1\" class=\"dataframe\">\n",
       "  <thead>\n",
       "    <tr style=\"text-align: right;\">\n",
       "      <th></th>\n",
       "      <th>index</th>\n",
       "      <th>language</th>\n",
       "    </tr>\n",
       "  </thead>\n",
       "  <tbody>\n",
       "    <tr>\n",
       "      <th>0</th>\n",
       "      <td>en</td>\n",
       "      <td>189626</td>\n",
       "    </tr>\n",
       "    <tr>\n",
       "      <th>1</th>\n",
       "      <td>tr</td>\n",
       "      <td>140532</td>\n",
       "    </tr>\n",
       "    <tr>\n",
       "      <th>2</th>\n",
       "      <td>qme</td>\n",
       "      <td>38828</td>\n",
       "    </tr>\n",
       "    <tr>\n",
       "      <th>3</th>\n",
       "      <td>ar</td>\n",
       "      <td>17059</td>\n",
       "    </tr>\n",
       "    <tr>\n",
       "      <th>4</th>\n",
       "      <td>qht</td>\n",
       "      <td>13479</td>\n",
       "    </tr>\n",
       "    <tr>\n",
       "      <th>5</th>\n",
       "      <td>und</td>\n",
       "      <td>11907</td>\n",
       "    </tr>\n",
       "    <tr>\n",
       "      <th>6</th>\n",
       "      <td>es</td>\n",
       "      <td>11168</td>\n",
       "    </tr>\n",
       "    <tr>\n",
       "      <th>7</th>\n",
       "      <td>hi</td>\n",
       "      <td>8171</td>\n",
       "    </tr>\n",
       "    <tr>\n",
       "      <th>8</th>\n",
       "      <td>ur</td>\n",
       "      <td>8021</td>\n",
       "    </tr>\n",
       "    <tr>\n",
       "      <th>9</th>\n",
       "      <td>in</td>\n",
       "      <td>4299</td>\n",
       "    </tr>\n",
       "    <tr>\n",
       "      <th>10</th>\n",
       "      <td>fr</td>\n",
       "      <td>4056</td>\n",
       "    </tr>\n",
       "    <tr>\n",
       "      <th>11</th>\n",
       "      <td>el</td>\n",
       "      <td>2630</td>\n",
       "    </tr>\n",
       "    <tr>\n",
       "      <th>12</th>\n",
       "      <td>fa</td>\n",
       "      <td>2390</td>\n",
       "    </tr>\n",
       "    <tr>\n",
       "      <th>13</th>\n",
       "      <td>it</td>\n",
       "      <td>2348</td>\n",
       "    </tr>\n",
       "    <tr>\n",
       "      <th>14</th>\n",
       "      <td>de</td>\n",
       "      <td>2310</td>\n",
       "    </tr>\n",
       "    <tr>\n",
       "      <th>15</th>\n",
       "      <td>ta</td>\n",
       "      <td>2028</td>\n",
       "    </tr>\n",
       "    <tr>\n",
       "      <th>16</th>\n",
       "      <td>pt</td>\n",
       "      <td>1951</td>\n",
       "    </tr>\n",
       "    <tr>\n",
       "      <th>17</th>\n",
       "      <td>ja</td>\n",
       "      <td>1808</td>\n",
       "    </tr>\n",
       "    <tr>\n",
       "      <th>18</th>\n",
       "      <td>ro</td>\n",
       "      <td>1702</td>\n",
       "    </tr>\n",
       "    <tr>\n",
       "      <th>19</th>\n",
       "      <td>ca</td>\n",
       "      <td>1262</td>\n",
       "    </tr>\n",
       "  </tbody>\n",
       "</table>\n",
       "</div>"
      ],
      "text/plain": [
       "   index  language\n",
       "0     en    189626\n",
       "1     tr    140532\n",
       "2    qme     38828\n",
       "3     ar     17059\n",
       "4    qht     13479\n",
       "5    und     11907\n",
       "6     es     11168\n",
       "7     hi      8171\n",
       "8     ur      8021\n",
       "9     in      4299\n",
       "10    fr      4056\n",
       "11    el      2630\n",
       "12    fa      2390\n",
       "13    it      2348\n",
       "14    de      2310\n",
       "15    ta      2028\n",
       "16    pt      1951\n",
       "17    ja      1808\n",
       "18    ro      1702\n",
       "19    ca      1262"
      ]
     },
     "execution_count": 552,
     "metadata": {},
     "output_type": "execute_result"
    }
   ],
   "source": [
    "x"
   ]
  },
  {
   "cell_type": "code",
   "execution_count": 59,
   "id": "2ed4b912",
   "metadata": {},
   "outputs": [],
   "source": [
    "x.rename(columns = {'language':'count', 'index':'language'}, inplace=True)"
   ]
  },
  {
   "cell_type": "code",
   "execution_count": 42,
   "id": "b62b23f6",
   "metadata": {},
   "outputs": [
    {
     "data": {
      "image/png": "[encoded data removed]",
      "text/plain": [
       "<Figure size 640x480 with 1 Axes>"
      ]
     },
     "metadata": {},
     "output_type": "display_data"
    }
   ],
   "source": [
    "import matplotlib.pyplot as plt\n",
    "plt.barh(x['language'], x['count'])\n",
    "plt.xticks(rotation='vertical')\n",
    "plt.show()"
   ]
  },
  {
   "cell_type": "code",
   "execution_count": 43,
   "id": "95bbf72a",
   "metadata": {},
   "outputs": [
    {
     "data": {
      "text/plain": [
       "Index(['date', 'content', 'hashtags', 'like_count', 'rt_count',\n",
       "       'followers_count', 'isVerified', 'language', 'source', 'hash_tags',\n",
       "       'day', 'hour'],\n",
       "      dtype='object')"
      ]
     },
     "execution_count": 43,
     "metadata": {},
     "output_type": "execute_result"
    }
   ],
   "source": [
    "tweets.columns"
   ]
  },
  {
   "cell_type": "code",
   "execution_count": 53,
   "id": "22bf76e1",
   "metadata": {},
   "outputs": [
    {
     "data": {
      "text/plain": [
       "0    [#ATDigital, #Turkey, #Earthquake, #TurkeyEart...\n",
       "1    [#Hatay, #earthquakes, #T, #TurkiyeQuakes, #Tu...\n",
       "2    [#Turkey, #earthquake, #turkeyearthquake2023, ...\n",
       "3         [#turkeyearthquake2023, #earthquake, #Syria]\n",
       "4    [#turkey, #earthquake, #turkiye, #india, #oper...\n",
       "5    [#Earthquake, #Hatay, #Turkey, #turkeyearthqua...\n",
       "6                [#T, #Syria, #earthquake, #Canadians]\n",
       "7                               [#earthquake, #Turkey]\n",
       "8        [#earthquake, #Turkey, #turkeyearthquake2023]\n",
       "9                               [#Earthquake, #turkey]\n",
       "Name: hash_tags, dtype: object"
      ]
     },
     "execution_count": 53,
     "metadata": {},
     "output_type": "execute_result"
    }
   ],
   "source": [
    "tweets['hash_tags'].head(10)"
   ]
  },
  {
   "cell_type": "code",
   "execution_count": 55,
   "id": "2242fbb5",
   "metadata": {},
   "outputs": [],
   "source": [
    "hash_for_word_cloud = tweets.sort_values(by='followers_count', ascending=False).head(20)['hash_tags'].reset_index()"
   ]
  },
  {
   "cell_type": "code",
   "execution_count": 61,
   "id": "e8b6551b",
   "metadata": {},
   "outputs": [],
   "source": [
    "z = tweets['day'].value_counts().reset_index()\n",
    "z.rename(columns = {'index':'date', 'day':'tweets'}, inplace=True)"
   ]
  },
  {
   "cell_type": "code",
   "execution_count": 498,
   "id": "1647eac2",
   "metadata": {},
   "outputs": [],
   "source": [
    "day_df = pd.DataFrame(list(tweets.groupby('day')['hash_tags']))\n",
    "day_df.columns = ['date', 'hashtags']"
   ]
  },
  {
   "cell_type": "code",
   "execution_count": 499,
   "id": "ef1133fb",
   "metadata": {},
   "outputs": [
    {
     "data": {
      "text/plain": [
       "303020                             [#earthquake, #oneloves]\n",
       "303021          [#TurkeyEarthquake, #Syria, #PrayForTurkey]\n",
       "303022    [#deprem, #Turkey, #enkazalt, #hataydeprem, #o...\n",
       "303023                           [#Syria, #earthquakesyria]\n",
       "303024    [#Turkey, #ohal, #iskenderun, #seferberlik, #D...\n",
       "                                ...                        \n",
       "478047    [#immigrant, #germany, #turkey, #international...\n",
       "478048                  [#Earthquake, #terremoto), #Spain)]\n",
       "478049             [#Earthquake, #sismo), #Calama, #Chile)]\n",
       "478050    [#ottomanempire, #ottoman, #osman, #osmanbey, ...\n",
       "478051                   [#Arabs, #Kurds, #Yazidis, #Syria]\n",
       "Name: hash_tags, Length: 175031, dtype: object"
      ]
     },
     "execution_count": 499,
     "metadata": {},
     "output_type": "execute_result"
    }
   ],
   "source": [
    "day_df['hashtags'][0]"
   ]
  },
  {
   "cell_type": "code",
   "execution_count": 500,
   "id": "a386ba4c",
   "metadata": {},
   "outputs": [],
   "source": [
    "# finding top 10 hash tags for first day\n",
    "hold = pd.DataFrame(np.hstack(day_df['hashtags'][0])).value_counts().head()"
   ]
  },
  {
   "cell_type": "code",
   "execution_count": 501,
   "id": "2e96fc48",
   "metadata": {},
   "outputs": [
    {
     "data": {
      "text/plain": [
       "MultiIndex([(          '#Turkey',),\n",
       "            (      '#earthquake',),\n",
       "            (          '#deprem',),\n",
       "            (           '#Syria',),\n",
       "            ('#TurkeyEarthquake',)],\n",
       "           )"
      ]
     },
     "execution_count": 501,
     "metadata": {},
     "output_type": "execute_result"
    }
   ],
   "source": [
    "hold.index"
   ]
  },
  {
   "cell_type": "code",
   "execution_count": 502,
   "id": "0ad2e63b",
   "metadata": {},
   "outputs": [],
   "source": [
    "v1 = hold.index\n",
    "v2 = hold.values\n",
    "v1 = [i[0] for i in v1]\n"
   ]
  },
  {
   "cell_type": "code",
   "execution_count": 503,
   "id": "f9ed836d",
   "metadata": {},
   "outputs": [
    {
     "data": {
      "text/plain": [
       "array(['#Turkey', '#earthquake', '#deprem', '#Syria', '#TurkeyEarthquake'],\n",
       "      dtype='<U17')"
      ]
     },
     "execution_count": 503,
     "metadata": {},
     "output_type": "execute_result"
    }
   ],
   "source": [
    "np.array(v1)"
   ]
  },
  {
   "cell_type": "code",
   "execution_count": 504,
   "id": "8206e664",
   "metadata": {},
   "outputs": [
    {
     "data": {
      "text/html": [
       "<div>\n",
       "<style scoped>\n",
       "    .dataframe tbody tr th:only-of-type {\n",
       "        vertical-align: middle;\n",
       "    }\n",
       "\n",
       "    .dataframe tbody tr th {\n",
       "        vertical-align: top;\n",
       "    }\n",
       "\n",
       "    .dataframe thead th {\n",
       "        text-align: right;\n",
       "    }\n",
       "</style>\n",
       "<table border=\"1\" class=\"dataframe\">\n",
       "  <thead>\n",
       "    <tr style=\"text-align: right;\">\n",
       "      <th></th>\n",
       "      <th>hashtag</th>\n",
       "      <th>Frequency</th>\n",
       "    </tr>\n",
       "  </thead>\n",
       "  <tbody>\n",
       "    <tr>\n",
       "      <th>0</th>\n",
       "      <td>#Turkey</td>\n",
       "      <td>122324</td>\n",
       "    </tr>\n",
       "    <tr>\n",
       "      <th>1</th>\n",
       "      <td>#earthquake</td>\n",
       "      <td>67432</td>\n",
       "    </tr>\n",
       "    <tr>\n",
       "      <th>2</th>\n",
       "      <td>#deprem</td>\n",
       "      <td>60792</td>\n",
       "    </tr>\n",
       "    <tr>\n",
       "      <th>3</th>\n",
       "      <td>#Syria</td>\n",
       "      <td>29935</td>\n",
       "    </tr>\n",
       "    <tr>\n",
       "      <th>4</th>\n",
       "      <td>#TurkeyEarthquake</td>\n",
       "      <td>16033</td>\n",
       "    </tr>\n",
       "  </tbody>\n",
       "</table>\n",
       "</div>"
      ],
      "text/plain": [
       "             hashtag  Frequency\n",
       "0            #Turkey     122324\n",
       "1        #earthquake      67432\n",
       "2            #deprem      60792\n",
       "3             #Syria      29935\n",
       "4  #TurkeyEarthquake      16033"
      ]
     },
     "execution_count": 504,
     "metadata": {},
     "output_type": "execute_result"
    }
   ],
   "source": [
    "pd.DataFrame({'hashtag':np.array(v1), 'Frequency':v2})"
   ]
  },
  {
   "cell_type": "code",
   "execution_count": 510,
   "id": "11a5c64f",
   "metadata": {},
   "outputs": [],
   "source": [
    "top_hashtags = pd.DataFrame()\n",
    "day_hash_freq = pd.DataFrame()\n",
    "for i in range(len(day_df)):\n",
    "    hold = pd.DataFrame(np.hstack(day_df['hashtags'][i])).value_counts().head(15)\n",
    "    v1 = hold.index\n",
    "    v2 = hold.values\n",
    "    v1 = [i[0] for i in v1]\n",
    "    v1 = np.array(v1)\n",
    "    day_hash_freq = day_hash_freq.append(pd.DataFrame({'date':day_df['date'][i], 'hashtag':v1, 'Frequency':v2}), ignore_index=True) \n",
    "    top_hashtags = top_hashtags.append(pd.DataFrame({'hashtag':v1, 'Frequency':v2}), ignore_index=True)"
   ]
  },
  {
   "cell_type": "code",
   "execution_count": 511,
   "id": "779e1d35",
   "metadata": {},
   "outputs": [
    {
     "data": {
      "text/html": [
       "<div>\n",
       "<style scoped>\n",
       "    .dataframe tbody tr th:only-of-type {\n",
       "        vertical-align: middle;\n",
       "    }\n",
       "\n",
       "    .dataframe tbody tr th {\n",
       "        vertical-align: top;\n",
       "    }\n",
       "\n",
       "    .dataframe thead th {\n",
       "        text-align: right;\n",
       "    }\n",
       "</style>\n",
       "<table border=\"1\" class=\"dataframe\">\n",
       "  <thead>\n",
       "    <tr style=\"text-align: right;\">\n",
       "      <th></th>\n",
       "      <th>date</th>\n",
       "      <th>hashtag</th>\n",
       "      <th>Frequency</th>\n",
       "    </tr>\n",
       "  </thead>\n",
       "  <tbody>\n",
       "    <tr>\n",
       "      <th>0</th>\n",
       "      <td>6</td>\n",
       "      <td>#Turkey</td>\n",
       "      <td>122324</td>\n",
       "    </tr>\n",
       "    <tr>\n",
       "      <th>1</th>\n",
       "      <td>6</td>\n",
       "      <td>#earthquake</td>\n",
       "      <td>67432</td>\n",
       "    </tr>\n",
       "    <tr>\n",
       "      <th>2</th>\n",
       "      <td>6</td>\n",
       "      <td>#deprem</td>\n",
       "      <td>60792</td>\n",
       "    </tr>\n",
       "    <tr>\n",
       "      <th>3</th>\n",
       "      <td>6</td>\n",
       "      <td>#Syria</td>\n",
       "      <td>29935</td>\n",
       "    </tr>\n",
       "    <tr>\n",
       "      <th>4</th>\n",
       "      <td>6</td>\n",
       "      <td>#TurkeyEarthquake</td>\n",
       "      <td>16033</td>\n",
       "    </tr>\n",
       "    <tr>\n",
       "      <th>5</th>\n",
       "      <td>6</td>\n",
       "      <td>#PrayForTurkey</td>\n",
       "      <td>15372</td>\n",
       "    </tr>\n",
       "    <tr>\n",
       "      <th>6</th>\n",
       "      <td>6</td>\n",
       "      <td>#Hatay</td>\n",
       "      <td>13134</td>\n",
       "    </tr>\n",
       "    <tr>\n",
       "      <th>7</th>\n",
       "      <td>6</td>\n",
       "      <td>#AFAD</td>\n",
       "      <td>12724</td>\n",
       "    </tr>\n",
       "    <tr>\n",
       "      <th>8</th>\n",
       "      <td>6</td>\n",
       "      <td>#Gaziantep</td>\n",
       "      <td>10225</td>\n",
       "    </tr>\n",
       "    <tr>\n",
       "      <th>9</th>\n",
       "      <td>6</td>\n",
       "      <td>#Turkiye</td>\n",
       "      <td>9881</td>\n",
       "    </tr>\n",
       "    <tr>\n",
       "      <th>10</th>\n",
       "      <td>6</td>\n",
       "      <td>#enkazalt</td>\n",
       "      <td>9754</td>\n",
       "    </tr>\n",
       "    <tr>\n",
       "      <th>11</th>\n",
       "      <td>6</td>\n",
       "      <td>#Kahramanmaras</td>\n",
       "      <td>9087</td>\n",
       "    </tr>\n",
       "    <tr>\n",
       "      <th>12</th>\n",
       "      <td>6</td>\n",
       "      <td>#AC</td>\n",
       "      <td>8494</td>\n",
       "    </tr>\n",
       "    <tr>\n",
       "      <th>13</th>\n",
       "      <td>6</td>\n",
       "      <td>#Enkaz</td>\n",
       "      <td>8321</td>\n",
       "    </tr>\n",
       "    <tr>\n",
       "      <th>14</th>\n",
       "      <td>6</td>\n",
       "      <td>#Earthquake</td>\n",
       "      <td>7537</td>\n",
       "    </tr>\n",
       "    <tr>\n",
       "      <th>15</th>\n",
       "      <td>7</td>\n",
       "      <td>#Turkey</td>\n",
       "      <td>90883</td>\n",
       "    </tr>\n",
       "    <tr>\n",
       "      <th>16</th>\n",
       "      <td>7</td>\n",
       "      <td>#deprem</td>\n",
       "      <td>43114</td>\n",
       "    </tr>\n",
       "    <tr>\n",
       "      <th>17</th>\n",
       "      <td>7</td>\n",
       "      <td>#earthquake</td>\n",
       "      <td>36138</td>\n",
       "    </tr>\n",
       "    <tr>\n",
       "      <th>18</th>\n",
       "      <td>7</td>\n",
       "      <td>#seferberlik</td>\n",
       "      <td>21933</td>\n",
       "    </tr>\n",
       "    <tr>\n",
       "      <th>19</th>\n",
       "      <td>7</td>\n",
       "      <td>#Syria</td>\n",
       "      <td>21077</td>\n",
       "    </tr>\n",
       "  </tbody>\n",
       "</table>\n",
       "</div>"
      ],
      "text/plain": [
       "    date            hashtag  Frequency\n",
       "0      6            #Turkey     122324\n",
       "1      6        #earthquake      67432\n",
       "2      6            #deprem      60792\n",
       "3      6             #Syria      29935\n",
       "4      6  #TurkeyEarthquake      16033\n",
       "5      6     #PrayForTurkey      15372\n",
       "6      6             #Hatay      13134\n",
       "7      6              #AFAD      12724\n",
       "8      6         #Gaziantep      10225\n",
       "9      6           #Turkiye       9881\n",
       "10     6          #enkazalt       9754\n",
       "11     6     #Kahramanmaras       9087\n",
       "12     6                #AC       8494\n",
       "13     6             #Enkaz       8321\n",
       "14     6        #Earthquake       7537\n",
       "15     7            #Turkey      90883\n",
       "16     7            #deprem      43114\n",
       "17     7        #earthquake      36138\n",
       "18     7       #seferberlik      21933\n",
       "19     7             #Syria      21077"
      ]
     },
     "execution_count": 511,
     "metadata": {},
     "output_type": "execute_result"
    }
   ],
   "source": [
    "day_hash_freq.head(20)"
   ]
  },
  {
   "cell_type": "code",
   "execution_count": 512,
   "id": "0f1ca72a",
   "metadata": {},
   "outputs": [
    {
     "data": {
      "text/plain": [
       "array(['#Turkey', '#earthquake', '#deprem', '#Syria', '#TurkeyEarthquake',\n",
       "       '#PrayForTurkey', '#Hatay', '#AFAD', '#Gaziantep', '#Turkiye',\n",
       "       '#enkazalt', '#Kahramanmaras', '#AC', '#Enkaz', '#Earthquake',\n",
       "       '#seferberlik', '#hatayyardimbekliyor', '#sondakikadeprem',\n",
       "       '#earthquakeinturkey', '#TurkeyQuake', '#HelpTurkey', '#YARDIM',\n",
       "       '#acildeprem', '#hatayiskenderun', '#TurkeySyriaEarthquake',\n",
       "       '#turkey', '#depremsondakika', '#depremden', '#hatay', '#T',\n",
       "       '#syria', '#terremoto', '#earthquaketurkey', '#Syria_earthquake',\n",
       "       '#kahramamaras', '#depremzede', '#Turkey)', '#deprem)', '#SYRIA',\n",
       "       '#StopSanctionsOnSyrians', '#G', '#Israel',\n",
       "       '#turkeyearthquake2023', '#Antioch', '#Ukraine', '#AtomicHeart'],\n",
       "      dtype=object)"
      ]
     },
     "execution_count": 512,
     "metadata": {},
     "output_type": "execute_result"
    }
   ],
   "source": [
    "top_hashtags['hashtag'].unique()"
   ]
  },
  {
   "cell_type": "code",
   "execution_count": 513,
   "id": "31dcc2d0",
   "metadata": {},
   "outputs": [],
   "source": [
    "top_hashtags = top_hashtags.sort_values(by = 'Frequency', ascending=False, ignore_index=True).head(30)\n",
    "top_hashtags = pd.DataFrame(top_hashtags['hashtag'].unique())\n",
    "top_hashtags.columns = ['hashtag']"
   ]
  },
  {
   "cell_type": "code",
   "execution_count": 514,
   "id": "36ba9874",
   "metadata": {},
   "outputs": [
    {
     "data": {
      "text/html": [
       "<div>\n",
       "<style scoped>\n",
       "    .dataframe tbody tr th:only-of-type {\n",
       "        vertical-align: middle;\n",
       "    }\n",
       "\n",
       "    .dataframe tbody tr th {\n",
       "        vertical-align: top;\n",
       "    }\n",
       "\n",
       "    .dataframe thead th {\n",
       "        text-align: right;\n",
       "    }\n",
       "</style>\n",
       "<table border=\"1\" class=\"dataframe\">\n",
       "  <thead>\n",
       "    <tr style=\"text-align: right;\">\n",
       "      <th></th>\n",
       "      <th>hashtag</th>\n",
       "    </tr>\n",
       "  </thead>\n",
       "  <tbody>\n",
       "    <tr>\n",
       "      <th>0</th>\n",
       "      <td>#Turkey</td>\n",
       "    </tr>\n",
       "    <tr>\n",
       "      <th>1</th>\n",
       "      <td>#earthquake</td>\n",
       "    </tr>\n",
       "    <tr>\n",
       "      <th>2</th>\n",
       "      <td>#deprem</td>\n",
       "    </tr>\n",
       "    <tr>\n",
       "      <th>3</th>\n",
       "      <td>#Syria</td>\n",
       "    </tr>\n",
       "    <tr>\n",
       "      <th>4</th>\n",
       "      <td>#seferberlik</td>\n",
       "    </tr>\n",
       "    <tr>\n",
       "      <th>5</th>\n",
       "      <td>#hatayyardimbekliyor</td>\n",
       "    </tr>\n",
       "    <tr>\n",
       "      <th>6</th>\n",
       "      <td>#TurkeyEarthquake</td>\n",
       "    </tr>\n",
       "    <tr>\n",
       "      <th>7</th>\n",
       "      <td>#sondakikadeprem</td>\n",
       "    </tr>\n",
       "    <tr>\n",
       "      <th>8</th>\n",
       "      <td>#PrayForTurkey</td>\n",
       "    </tr>\n",
       "    <tr>\n",
       "      <th>9</th>\n",
       "      <td>#Hatay</td>\n",
       "    </tr>\n",
       "    <tr>\n",
       "      <th>10</th>\n",
       "      <td>#AFAD</td>\n",
       "    </tr>\n",
       "    <tr>\n",
       "      <th>11</th>\n",
       "      <td>#Gaziantep</td>\n",
       "    </tr>\n",
       "    <tr>\n",
       "      <th>12</th>\n",
       "      <td>#Turkiye</td>\n",
       "    </tr>\n",
       "    <tr>\n",
       "      <th>13</th>\n",
       "      <td>#enkazalt</td>\n",
       "    </tr>\n",
       "    <tr>\n",
       "      <th>14</th>\n",
       "      <td>#Kahramanmaras</td>\n",
       "    </tr>\n",
       "  </tbody>\n",
       "</table>\n",
       "</div>"
      ],
      "text/plain": [
       "                 hashtag\n",
       "0                #Turkey\n",
       "1            #earthquake\n",
       "2                #deprem\n",
       "3                 #Syria\n",
       "4           #seferberlik\n",
       "5   #hatayyardimbekliyor\n",
       "6      #TurkeyEarthquake\n",
       "7       #sondakikadeprem\n",
       "8         #PrayForTurkey\n",
       "9                 #Hatay\n",
       "10                 #AFAD\n",
       "11            #Gaziantep\n",
       "12              #Turkiye\n",
       "13             #enkazalt\n",
       "14        #Kahramanmaras"
      ]
     },
     "execution_count": 514,
     "metadata": {},
     "output_type": "execute_result"
    }
   ],
   "source": [
    "top_hashtags"
   ]
  },
  {
   "cell_type": "code",
   "execution_count": 521,
   "id": "9c9f25b8",
   "metadata": {},
   "outputs": [],
   "source": [
    "day_hash_freq = day_hash_freq.merge(top_hashtags, on='hashtag').sort_values(by='date', ascending=True)"
   ]
  },
  {
   "cell_type": "code",
   "execution_count": 540,
   "id": "5a8b05ad",
   "metadata": {},
   "outputs": [],
   "source": [
    "table = day_hash_freq.pivot_table(index='date', columns='hashtag', values='Frequency', aggfunc='sum').fillna(0).astype('int')"
   ]
  },
  {
   "cell_type": "code",
   "execution_count": 543,
   "id": "ea359d4e",
   "metadata": {},
   "outputs": [
    {
     "data": {
      "text/plain": [
       "<AxesSubplot:xlabel='hashtag', ylabel='date'>"
      ]
     },
     "execution_count": 543,
     "metadata": {},
     "output_type": "execute_result"
    },
    {
     "data": {
      "image/png": "[encoded data removed]",
      "text/plain": [
       "<Figure size 640x480 with 2 Axes>"
      ]
     },
     "metadata": {},
     "output_type": "display_data"
    }
   ],
   "source": [
    "import seaborn as sns\n",
    "sns.heatmap(table, linewidths=0.5, cmap=\"Blues\")"
   ]
  },
  {
   "cell_type": "code",
   "execution_count": 545,
   "id": "b4b7ad70",
   "metadata": {},
   "outputs": [],
   "source": [
    "import pickle\n",
    "pickle.dump(table, open('table.pkl', 'wb'))"
   ]
  },
  {
   "cell_type": "code",
   "execution_count": 604,
   "id": "633f814f",
   "metadata": {},
   "outputs": [
    {
     "data": {
      "text/plain": [
       "0     en\n",
       "1     tr\n",
       "2    qme\n",
       "3     ar\n",
       "4    qht\n",
       "5    und\n",
       "6     es\n",
       "7     hi\n",
       "8     ur\n",
       "9     in\n",
       "Name: index, dtype: object"
      ]
     },
     "execution_count": 604,
     "metadata": {},
     "output_type": "execute_result"
    }
   ],
   "source": [
    "unique_lang = tweets['language'].value_counts().head(10).reset_index()\n",
    "unique_lang['index']"
   ]
  },
  {
   "cell_type": "code",
   "execution_count": 644,
   "id": "7264ecf6",
   "metadata": {},
   "outputs": [
    {
     "data": {
      "text/html": [
       "<div>\n",
       "<style scoped>\n",
       "    .dataframe tbody tr th:only-of-type {\n",
       "        vertical-align: middle;\n",
       "    }\n",
       "\n",
       "    .dataframe tbody tr th {\n",
       "        vertical-align: top;\n",
       "    }\n",
       "\n",
       "    .dataframe thead th {\n",
       "        text-align: right;\n",
       "    }\n",
       "</style>\n",
       "<table border=\"1\" class=\"dataframe\">\n",
       "  <thead>\n",
       "    <tr style=\"text-align: right;\">\n",
       "      <th></th>\n",
       "      <th>date</th>\n",
       "      <th>freq</th>\n",
       "    </tr>\n",
       "  </thead>\n",
       "  <tbody>\n",
       "    <tr>\n",
       "      <th>0</th>\n",
       "      <td>6</td>\n",
       "      <td>65831</td>\n",
       "    </tr>\n",
       "    <tr>\n",
       "      <th>1</th>\n",
       "      <td>7</td>\n",
       "      <td>40741</td>\n",
       "    </tr>\n",
       "    <tr>\n",
       "      <th>2</th>\n",
       "      <td>8</td>\n",
       "      <td>23553</td>\n",
       "    </tr>\n",
       "    <tr>\n",
       "      <th>3</th>\n",
       "      <td>9</td>\n",
       "      <td>18176</td>\n",
       "    </tr>\n",
       "    <tr>\n",
       "      <th>4</th>\n",
       "      <td>10</td>\n",
       "      <td>12454</td>\n",
       "    </tr>\n",
       "    <tr>\n",
       "      <th>5</th>\n",
       "      <td>11</td>\n",
       "      <td>9891</td>\n",
       "    </tr>\n",
       "    <tr>\n",
       "      <th>6</th>\n",
       "      <td>12</td>\n",
       "      <td>8786</td>\n",
       "    </tr>\n",
       "    <tr>\n",
       "      <th>7</th>\n",
       "      <td>13</td>\n",
       "      <td>2241</td>\n",
       "    </tr>\n",
       "    <tr>\n",
       "      <th>8</th>\n",
       "      <td>20</td>\n",
       "      <td>2090</td>\n",
       "    </tr>\n",
       "    <tr>\n",
       "      <th>9</th>\n",
       "      <td>14</td>\n",
       "      <td>1326</td>\n",
       "    </tr>\n",
       "    <tr>\n",
       "      <th>10</th>\n",
       "      <td>15</td>\n",
       "      <td>1188</td>\n",
       "    </tr>\n",
       "    <tr>\n",
       "      <th>11</th>\n",
       "      <td>16</td>\n",
       "      <td>936</td>\n",
       "    </tr>\n",
       "    <tr>\n",
       "      <th>12</th>\n",
       "      <td>17</td>\n",
       "      <td>870</td>\n",
       "    </tr>\n",
       "    <tr>\n",
       "      <th>13</th>\n",
       "      <td>18</td>\n",
       "      <td>695</td>\n",
       "    </tr>\n",
       "    <tr>\n",
       "      <th>14</th>\n",
       "      <td>19</td>\n",
       "      <td>628</td>\n",
       "    </tr>\n",
       "    <tr>\n",
       "      <th>15</th>\n",
       "      <td>21</td>\n",
       "      <td>220</td>\n",
       "    </tr>\n",
       "  </tbody>\n",
       "</table>\n",
       "</div>"
      ],
      "text/plain": [
       "    date   freq\n",
       "0      6  65831\n",
       "1      7  40741\n",
       "2      8  23553\n",
       "3      9  18176\n",
       "4     10  12454\n",
       "5     11   9891\n",
       "6     12   8786\n",
       "7     13   2241\n",
       "8     20   2090\n",
       "9     14   1326\n",
       "10    15   1188\n",
       "11    16    936\n",
       "12    17    870\n",
       "13    18    695\n",
       "14    19    628\n",
       "15    21    220"
      ]
     },
     "execution_count": 644,
     "metadata": {},
     "output_type": "execute_result"
    }
   ],
   "source": [
    "lang_df = tweets[tweets['language'] == 'en']\n",
    "cnt_lang_df = lang_df['day'].value_counts().reset_index()\n",
    "cnt_lang_df.rename(columns = {'index':'date', 'day':'freq'}, inplace=True)\n",
    "cnt_lang_df"
   ]
  },
  {
   "cell_type": "code",
   "execution_count": null,
   "id": "d5ddb0cb",
   "metadata": {},
   "outputs": [],
   "source": []
  },
  {
   "cell_type": "code",
   "execution_count": 623,
   "id": "cb6465aa",
   "metadata": {},
   "outputs": [
    {
     "data": {
      "image/png": "[encoded data removed]",
      "text/plain": [
       "<Figure size 640x480 with 1 Axes>"
      ]
     },
     "metadata": {},
     "output_type": "display_data"
    }
   ],
   "source": [
    "g = sns.lineplot(data=cnt_lang_df, x=\"date\", y=\"freq\")\n",
    "g.set(xticks=list(range(6,21)))\n",
    "plt.show()"
   ]
  },
  {
   "cell_type": "code",
   "execution_count": 620,
   "id": "216cda63",
   "metadata": {},
   "outputs": [
    {
     "data": {
      "text/plain": [
       "<AxesSubplot:>"
      ]
     },
     "execution_count": 620,
     "metadata": {},
     "output_type": "execute_result"
    },
    {
     "data": {
      "image/png": "[encoded data removed]",
      "text/plain": [
       "<Figure size 640x480 with 2 Axes>"
      ]
     },
     "metadata": {},
     "output_type": "display_data"
    }
   ],
   "source": [
    "fig, freq_chart = plt.subplots()\n",
    "sns.heatmap(cnt_lang_df, annot=True, cmap=\"Reds_r\",\n",
    "                    linewidths=2, ax=freq_chart)"
   ]
  },
  {
   "cell_type": "code",
   "execution_count": 624,
   "id": "71c19d1c",
   "metadata": {},
   "outputs": [
    {
     "data": {
      "text/plain": [
       "0    449160\n",
       "1     28874\n",
       "Name: isVerified, dtype: int64"
      ]
     },
     "execution_count": 624,
     "metadata": {},
     "output_type": "execute_result"
    }
   ],
   "source": [
    "tweets['isVerified'] = tweets['isVerified'].astype(int)\n",
    "pie_plot_verified = tweets['isVerified'].value_counts()\n",
    "pie_plot_verified"
   ]
  },
  {
   "cell_type": "code",
   "execution_count": 634,
   "id": "d9b4f197",
   "metadata": {},
   "outputs": [
    {
     "data": {
      "text/plain": [
       "Unverified    449160\n",
       "Verified       28874\n",
       "Name: isVerified, dtype: int64"
      ]
     },
     "execution_count": 634,
     "metadata": {},
     "output_type": "execute_result"
    }
   ],
   "source": [
    "pie_plot_verified.rename(index={0: 'Unverified', 1:'Verified'})"
   ]
  },
  {
   "cell_type": "code",
   "execution_count": 626,
   "id": "05895df8",
   "metadata": {},
   "outputs": [
    {
     "data": {
      "text/plain": [
       "array([449160,  28874], dtype=int64)"
      ]
     },
     "execution_count": 626,
     "metadata": {},
     "output_type": "execute_result"
    }
   ],
   "source": [
    "pie_plot_verified.values"
   ]
  },
  {
   "cell_type": "code",
   "execution_count": 632,
   "id": "789460fb",
   "metadata": {},
   "outputs": [
    {
     "data": {
      "image/png": "[encoded data removed]",
      "text/plain": [
       "<Figure size 640x480 with 1 Axes>"
      ]
     },
     "metadata": {},
     "output_type": "display_data"
    }
   ],
   "source": [
    "plt.bar(pie_plot_verified.index, pie_plot_verified.values, color ='maroon', width = 0.1, tick_label=['Unverified', 'Verified'])\n",
    "plt.show()"
   ]
  },
  {
   "cell_type": "code",
   "execution_count": 714,
   "id": "1047778d",
   "metadata": {},
   "outputs": [
    {
     "data": {
      "text/html": [
       "<div>\n",
       "<style scoped>\n",
       "    .dataframe tbody tr th:only-of-type {\n",
       "        vertical-align: middle;\n",
       "    }\n",
       "\n",
       "    .dataframe tbody tr th {\n",
       "        vertical-align: top;\n",
       "    }\n",
       "\n",
       "    .dataframe thead th {\n",
       "        text-align: right;\n",
       "    }\n",
       "</style>\n",
       "<table border=\"1\" class=\"dataframe\">\n",
       "  <thead>\n",
       "    <tr style=\"text-align: right;\">\n",
       "      <th></th>\n",
       "      <th>index</th>\n",
       "      <th>isVerified</th>\n",
       "    </tr>\n",
       "  </thead>\n",
       "  <tbody>\n",
       "    <tr>\n",
       "      <th>0</th>\n",
       "      <td>Unverified</td>\n",
       "      <td>169362</td>\n",
       "    </tr>\n",
       "    <tr>\n",
       "      <th>1</th>\n",
       "      <td>Verified</td>\n",
       "      <td>20264</td>\n",
       "    </tr>\n",
       "  </tbody>\n",
       "</table>\n",
       "</div>"
      ],
      "text/plain": [
       "        index  isVerified\n",
       "0  Unverified      169362\n",
       "1    Verified       20264"
      ]
     },
     "execution_count": 714,
     "metadata": {},
     "output_type": "execute_result"
    }
   ],
   "source": [
    "lang_ver = lang_df['isVerified'].value_counts()\n",
    "lang_ver.rename(index={0:'Unverified', 1:'Verified'}, inplace=True)\n",
    "lang_ver = lang_ver.reset_index()\n",
    "lang_ver"
   ]
  },
  {
   "cell_type": "code",
   "execution_count": 715,
   "id": "0afe7447",
   "metadata": {},
   "outputs": [
    {
     "data": {
      "text/html": [
       "<div>\n",
       "<style scoped>\n",
       "    .dataframe tbody tr th:only-of-type {\n",
       "        vertical-align: middle;\n",
       "    }\n",
       "\n",
       "    .dataframe tbody tr th {\n",
       "        vertical-align: top;\n",
       "    }\n",
       "\n",
       "    .dataframe thead th {\n",
       "        text-align: right;\n",
       "    }\n",
       "</style>\n",
       "<table border=\"1\" class=\"dataframe\">\n",
       "  <thead>\n",
       "    <tr style=\"text-align: right;\">\n",
       "      <th></th>\n",
       "      <th>Users</th>\n",
       "      <th>Tweets</th>\n",
       "    </tr>\n",
       "  </thead>\n",
       "  <tbody>\n",
       "    <tr>\n",
       "      <th>0</th>\n",
       "      <td>Unverified</td>\n",
       "      <td>169362</td>\n",
       "    </tr>\n",
       "    <tr>\n",
       "      <th>1</th>\n",
       "      <td>Verified</td>\n",
       "      <td>20264</td>\n",
       "    </tr>\n",
       "  </tbody>\n",
       "</table>\n",
       "</div>"
      ],
      "text/plain": [
       "        Users  Tweets\n",
       "0  Unverified  169362\n",
       "1    Verified   20264"
      ]
     },
     "execution_count": 715,
     "metadata": {},
     "output_type": "execute_result"
    }
   ],
   "source": [
    "lang_ver.rename(columns={'isVerified':'Tweets', 'index':'Users'}, inplace=True)\n",
    "lang_ver"
   ]
  },
  {
   "cell_type": "code",
   "execution_count": 661,
   "id": "8109d5b5",
   "metadata": {},
   "outputs": [
    {
     "data": {
      "text/html": [
       "<div>\n",
       "<style scoped>\n",
       "    .dataframe tbody tr th:only-of-type {\n",
       "        vertical-align: middle;\n",
       "    }\n",
       "\n",
       "    .dataframe tbody tr th {\n",
       "        vertical-align: top;\n",
       "    }\n",
       "\n",
       "    .dataframe thead th {\n",
       "        text-align: right;\n",
       "    }\n",
       "</style>\n",
       "<table border=\"1\" class=\"dataframe\">\n",
       "  <thead>\n",
       "    <tr style=\"text-align: right;\">\n",
       "      <th></th>\n",
       "      <th>index</th>\n",
       "      <th>language</th>\n",
       "    </tr>\n",
       "  </thead>\n",
       "  <tbody>\n",
       "    <tr>\n",
       "      <th>0</th>\n",
       "      <td>en</td>\n",
       "      <td>189626</td>\n",
       "    </tr>\n",
       "    <tr>\n",
       "      <th>1</th>\n",
       "      <td>tr</td>\n",
       "      <td>140532</td>\n",
       "    </tr>\n",
       "    <tr>\n",
       "      <th>2</th>\n",
       "      <td>qme</td>\n",
       "      <td>38828</td>\n",
       "    </tr>\n",
       "    <tr>\n",
       "      <th>3</th>\n",
       "      <td>ar</td>\n",
       "      <td>17059</td>\n",
       "    </tr>\n",
       "    <tr>\n",
       "      <th>4</th>\n",
       "      <td>qht</td>\n",
       "      <td>13479</td>\n",
       "    </tr>\n",
       "    <tr>\n",
       "      <th>5</th>\n",
       "      <td>und</td>\n",
       "      <td>11907</td>\n",
       "    </tr>\n",
       "    <tr>\n",
       "      <th>6</th>\n",
       "      <td>es</td>\n",
       "      <td>11168</td>\n",
       "    </tr>\n",
       "    <tr>\n",
       "      <th>7</th>\n",
       "      <td>hi</td>\n",
       "      <td>8171</td>\n",
       "    </tr>\n",
       "    <tr>\n",
       "      <th>8</th>\n",
       "      <td>ur</td>\n",
       "      <td>8021</td>\n",
       "    </tr>\n",
       "    <tr>\n",
       "      <th>9</th>\n",
       "      <td>in</td>\n",
       "      <td>4299</td>\n",
       "    </tr>\n",
       "    <tr>\n",
       "      <th>10</th>\n",
       "      <td>fr</td>\n",
       "      <td>4056</td>\n",
       "    </tr>\n",
       "    <tr>\n",
       "      <th>11</th>\n",
       "      <td>el</td>\n",
       "      <td>2630</td>\n",
       "    </tr>\n",
       "    <tr>\n",
       "      <th>12</th>\n",
       "      <td>fa</td>\n",
       "      <td>2390</td>\n",
       "    </tr>\n",
       "    <tr>\n",
       "      <th>13</th>\n",
       "      <td>it</td>\n",
       "      <td>2348</td>\n",
       "    </tr>\n",
       "    <tr>\n",
       "      <th>14</th>\n",
       "      <td>de</td>\n",
       "      <td>2310</td>\n",
       "    </tr>\n",
       "    <tr>\n",
       "      <th>15</th>\n",
       "      <td>ta</td>\n",
       "      <td>2028</td>\n",
       "    </tr>\n",
       "    <tr>\n",
       "      <th>16</th>\n",
       "      <td>pt</td>\n",
       "      <td>1951</td>\n",
       "    </tr>\n",
       "    <tr>\n",
       "      <th>17</th>\n",
       "      <td>ja</td>\n",
       "      <td>1808</td>\n",
       "    </tr>\n",
       "    <tr>\n",
       "      <th>18</th>\n",
       "      <td>ro</td>\n",
       "      <td>1702</td>\n",
       "    </tr>\n",
       "    <tr>\n",
       "      <th>19</th>\n",
       "      <td>ca</td>\n",
       "      <td>1262</td>\n",
       "    </tr>\n",
       "  </tbody>\n",
       "</table>\n",
       "</div>"
      ],
      "text/plain": [
       "   index  language\n",
       "0     en    189626\n",
       "1     tr    140532\n",
       "2    qme     38828\n",
       "3     ar     17059\n",
       "4    qht     13479\n",
       "5    und     11907\n",
       "6     es     11168\n",
       "7     hi      8171\n",
       "8     ur      8021\n",
       "9     in      4299\n",
       "10    fr      4056\n",
       "11    el      2630\n",
       "12    fa      2390\n",
       "13    it      2348\n",
       "14    de      2310\n",
       "15    ta      2028\n",
       "16    pt      1951\n",
       "17    ja      1808\n",
       "18    ro      1702\n",
       "19    ca      1262"
      ]
     },
     "execution_count": 661,
     "metadata": {},
     "output_type": "execute_result"
    }
   ],
   "source": [
    "tweets['language'].value_counts().head(20).reset_index()"
   ]
  },
  {
   "cell_type": "code",
   "execution_count": null,
   "id": "864a40f0",
   "metadata": {},
   "outputs": [],
   "source": []
  }
 ],
 "metadata": {
  "kernelspec": {
   "display_name": "Python 3 (ipykernel)",
   "language": "python",
   "name": "python3"
  },
  "language_info": {
   "codemirror_mode": {
    "name": "ipython",
    "version": 3
   },
   "file_extension": ".py",
   "mimetype": "text/x-python",
   "name": "python",
   "nbconvert_exporter": "python",
   "pygments_lexer": "ipython3",
   "version": "3.7.9"
  }
 },
 "nbformat": 4,
 "nbformat_minor": 5
}
